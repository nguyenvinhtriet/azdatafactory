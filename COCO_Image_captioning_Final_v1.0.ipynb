{
  "nbformat": 4,
  "nbformat_minor": 0,
  "metadata": {
    "accelerator": "GPU",
    "colab": {
      "name": "COCO_Image_captioning_v1.0.ipynb",
      "provenance": [],
      "private_outputs": true,
      "collapsed_sections": [
        "b6qbGw8MRPE5",
        "aANEzb5WwSzg",
        "UwSIYDn3KQYf",
        "VJZXyJco6uLO",
        "8z5KPmfZCXw2"
      ],
      "toc_visible": true
    },
    "kernelspec": {
      "display_name": "Python 3",
      "name": "python3"
    }
  },
  "cells": [
    {
      "cell_type": "markdown",
      "metadata": {
        "colab_type": "text",
        "id": "K2s1A9eLRPEj"
      },
      "source": [
        "##### Copyright 2018 The TensorFlow Authors.\n",
        "\n"
      ]
    },
    {
      "cell_type": "code",
      "metadata": {
        "cellView": "form",
        "colab_type": "code",
        "id": "VRLVEKiTEn04",
        "colab": {}
      },
      "source": [
        "#@title Licensed under the Apache License, Version 2.0 (the \"License\");\n",
        "# you may not use this file except in compliance with the License.\n",
        "# You may obtain a copy of the License at\n",
        "#\n",
        "# https://www.apache.org/licenses/LICENSE-2.0\n",
        "#\n",
        "# Unless required by applicable law or agreed to in writing, software\n",
        "# distributed under the License is distributed on an \"AS IS\" BASIS,\n",
        "# WITHOUT WARRANTIES OR CONDITIONS OF ANY KIND, either express or implied.\n",
        "# See the License for the specific language governing permissions and\n",
        "# limitations under the License."
      ],
      "execution_count": 0,
      "outputs": []
    },
    {
      "cell_type": "markdown",
      "metadata": {
        "colab_type": "text",
        "id": "Cffg2i257iMS"
      },
      "source": [
        "# Image captioning with visual attention\n",
        "\n",
        "<table class=\"tfo-notebook-buttons\" align=\"left\">\n",
        "  <td>\n",
        "    <a target=\"_blank\" href=\"https://www.tensorflow.org/tutorials/text/image_captioning\">\n",
        "    <img src=\"https://www.tensorflow.org/images/tf_logo_32px.png\" />\n",
        "    View on TensorFlow.org</a>\n",
        "  </td>\n",
        "  <td>\n",
        "    <a target=\"_blank\" href=\"https://colab.research.google.com/github/tensorflow/docs/blob/master/site/en/tutorials/text/image_captioning.ipynb\">\n",
        "    <img src=\"https://www.tensorflow.org/images/colab_logo_32px.png\" />\n",
        "    Run in Google Colab</a>\n",
        "  </td>\n",
        "  <td>\n",
        "    <a target=\"_blank\" href=\"https://github.com/tensorflow/docs/blob/master/site/en/tutorials/text/image_captioning.ipynb\">\n",
        "    <img src=\"https://www.tensorflow.org/images/GitHub-Mark-32px.png\" />\n",
        "    View source on GitHub</a>\n",
        "  </td>\n",
        "  <td>\n",
        "    <a href=\"https://storage.googleapis.com/tensorflow_docs/docs/site/en/tutorials/text/image_captioning.ipynb\"><img src=\"https://www.tensorflow.org/images/download_logo_32px.png\" />Download notebook</a>\n",
        "  </td>\n",
        "</table>"
      ]
    },
    {
      "cell_type": "markdown",
      "metadata": {
        "colab_type": "text",
        "id": "QASbY_HGo4Lq"
      },
      "source": [
        "Given an image like the example below, our goal is to generate a caption such as \"a surfer riding on a wave\".\n",
        "\n",
        "![Man Surfing](https://tensorflow.org/images/surf.jpg)\n",
        "\n",
        "*[Image Source](https://commons.wikimedia.org/wiki/Surfing#/media/File:Surfing_in_Hawaii.jpg); License: Public Domain*\n",
        "\n",
        "To accomplish this, you'll use an attention-based model, which enables us to see what parts of the image the model focuses on as it generates a caption.\n",
        "\n",
        "![Prediction](https://tensorflow.org/images/imcap_prediction.png)\n",
        "\n",
        "The model architecture is similar to [Show, Attend and Tell: Neural Image Caption Generation with Visual Attention](https://arxiv.org/abs/1502.03044).\n",
        "\n",
        "This notebook is an end-to-end example. When you run the notebook, it downloads the [MS-COCO](http://cocodataset.org/#home) dataset, preprocesses and caches a subset of images using Inception V3, trains an encoder-decoder model, and generates captions on new images using the trained model.\n",
        "\n",
        "In this example, you will train a model on a relatively small amount of data—the first 30,000 captions  for about 20,000 images (because there are multiple captions per image in the dataset)."
      ]
    },
    {
      "cell_type": "code",
      "metadata": {
        "id": "FwRliVoVnVrl",
        "colab_type": "code",
        "colab": {}
      },
      "source": [
        "#Connect to Drive\n",
        "from google.colab import drive\n",
        "drive.mount('/content/drive')"
      ],
      "execution_count": 0,
      "outputs": []
    },
    {
      "cell_type": "code",
      "metadata": {
        "id": "5RKWREStnbaa",
        "colab_type": "code",
        "colab": {}
      },
      "source": [
        "ROOT_DIR = '/content/drive/My Drive/_AI/Image Captioning'\n",
        "\n",
        "DATASET_PATH = ROOT_DIR + '/dataset'\n",
        "\n",
        "COCO_dataset = ROOT_DIR + '/coco/'\n",
        "\n",
        "COCO_dataset_2 = ROOT_DIR + '/coco_2/'\n",
        "\n",
        "#Path of Zip files\n",
        "DATASET_ZIP = DATASET_PATH + '/Flickr8k_Dataset.zip'\n",
        "TEXT_ZIP = DATASET_PATH + '/Flickr8k_text.zip'\n",
        "GLOVE_ZIP = DATASET_PATH + '/glove.6B.200d.txt.zip'\n",
        "\n",
        "dataset_img_path = DATASET_PATH +'/Flicker8k_Dataset'\n",
        "dataset_text_path = DATASET_PATH +'/TextFiles'\n",
        "\n",
        "# TRAIN_PATH = ROOT_DIR + 'input_1/training_set/'\n",
        "# SMALL_TRAIN_PATH = ROOT_DIR + 'dataset/train'"
      ],
      "execution_count": 0,
      "outputs": []
    },
    {
      "cell_type": "code",
      "metadata": {
        "colab_type": "code",
        "id": "6svGEEek67ds",
        "colab": {}
      },
      "source": [
        "from __future__ import absolute_import, division, print_function, unicode_literals"
      ],
      "execution_count": 0,
      "outputs": []
    },
    {
      "cell_type": "code",
      "metadata": {
        "colab_type": "code",
        "id": "U8l4RJ0XRPEm",
        "colab": {}
      },
      "source": [
        "try:\n",
        "  # %tensorflow_version only exists in Colab.\n",
        "  %tensorflow_version 2.x\n",
        "except Exception:\n",
        "  pass\n",
        "import tensorflow as tf\n",
        "\n",
        "# You'll generate plots of attention in order to see which parts of an image\n",
        "# our model focuses on during captioning\n",
        "import matplotlib.pyplot as plt\n",
        "\n",
        "# Scikit-learn includes many helpful utilities\n",
        "from sklearn.model_selection import train_test_split\n",
        "from sklearn.utils import shuffle\n",
        "\n",
        "import re\n",
        "import numpy as np\n",
        "import os\n",
        "import time\n",
        "import json\n",
        "from glob import glob\n",
        "from PIL import Image\n",
        "import pickle"
      ],
      "execution_count": 0,
      "outputs": []
    },
    {
      "cell_type": "markdown",
      "metadata": {
        "colab_type": "text",
        "id": "b6qbGw8MRPE5"
      },
      "source": [
        "## Download and prepare the MS-COCO dataset\n",
        "\n",
        "You will use the [MS-COCO dataset](http://cocodataset.org/#home) to train our model. The dataset contains over 82,000 images, each of which has at least 5 different caption annotations. The code below downloads and extracts the dataset automatically.\n",
        "\n",
        "**Caution: large download ahead**. You'll use the training set, which is a 13GB file."
      ]
    },
    {
      "cell_type": "code",
      "metadata": {
        "colab_type": "code",
        "id": "krQuPYTtRPE7",
        "colab": {}
      },
      "source": [
        "annotation_zip = tf.keras.utils.get_file('captions.zip',\n",
        "                                          cache_subdir=os.path.abspath('.'),\n",
        "                                          origin = 'http://images.cocodataset.org/annotations/annotations_trainval2014.zip',\n",
        "                                          extract = True)\n",
        "annotation_file = os.path.dirname(annotation_zip)+'/annotations/captions_train2014.json'\n",
        "\n",
        "# name_of_zip = 'train2014.zip'\n",
        "# if not os.path.exists(os.path.abspath('.') + '/' + name_of_zip):\n",
        "#   image_zip = tf.keras.utils.get_file(name_of_zip,\n",
        "#                                       cache_subdir=os.path.abspath('.'),\n",
        "#                                       origin = 'http://images.cocodataset.org/zips/train2014.zip',\n",
        "#                                       extract = True)\n",
        "#   PATH = os.path.dirname(image_zip)+'/train2014/'\n",
        "# else:\n",
        "#   PATH = os.path.abspath('.')+'/train2014/'"
      ],
      "execution_count": 0,
      "outputs": []
    },
    {
      "cell_type": "code",
      "metadata": {
        "id": "WH6gTh7cdJIm",
        "colab_type": "code",
        "colab": {}
      },
      "source": [
        "name_of_zip = 'train2014.zip'\n",
        "if not os.path.exists(os.path.abspath('.') + '/' + name_of_zip):\n",
        "  image_zip = tf.keras.utils.get_file(name_of_zip,\n",
        "                                      cache_subdir=os.path.abspath('.'),\n",
        "                                      origin = 'http://images.cocodataset.org/zips/train2014.zip',\n",
        "                                      extract = True)\n",
        "  PATH = os.path.dirname(image_zip)+'/train2014/'\n",
        "else:\n",
        "  PATH = os.path.abspath('.')+'/train2014/'"
      ],
      "execution_count": 0,
      "outputs": []
    },
    {
      "cell_type": "markdown",
      "metadata": {
        "colab_type": "text",
        "id": "aANEzb5WwSzg"
      },
      "source": [
        "## Optional: limit the size of the training set \n",
        "To speed up training for this tutorial, you'll use a subset of 30,000 captions and their corresponding images to train our model. Choosing to use more data would result in improved captioning quality."
      ]
    },
    {
      "cell_type": "code",
      "metadata": {
        "id": "qQRw0_aGUtYm",
        "colab_type": "code",
        "colab": {}
      },
      "source": [
        "# COCO Image Caption\n",
        "annotation{\n",
        "  \"id\": int,\n",
        "  \"image_id\": int, \n",
        "  \"caption\": str,\n",
        "  }"
      ],
      "execution_count": 0,
      "outputs": []
    },
    {
      "cell_type": "code",
      "metadata": {
        "colab_type": "code",
        "id": "4G3b8x8_RPFD",
        "colab": {}
      },
      "source": [
        "# Read the json file\n",
        "with open(annotation_file, 'r') as f:\n",
        "    annotations = json.load(f)\n",
        "\n",
        "# Store captions and image names in vectors\n",
        "all_captions = []\n",
        "all_img_name_vector = []\n",
        "\n",
        "for annot in annotations['annotations']:\n",
        "    caption = '<start> ' + annot['caption'] + ' <end>'\n",
        "    image_id = annot['image_id']\n",
        "    full_coco_image_path = PATH + 'COCO_train2014_' + '%012d.jpg' % (image_id)\n",
        "\n",
        "    all_img_name_vector.append(full_coco_image_path)\n",
        "    all_captions.append(caption)\n",
        "\n",
        "# Shuffle captions and image_names together\n",
        "# Set a random state\n",
        "train_captions, img_name_vector = shuffle(all_captions,\n",
        "                                          all_img_name_vector,\n",
        "                                          random_state=1)\n",
        "\n",
        "# Select the first 30000 captions from the shuffled set\n",
        "num_examples = 10000\n",
        "train_captions = train_captions[:num_examples]\n",
        "train_img_name_vector = img_name_vector[:num_examples]"
      ],
      "execution_count": 0,
      "outputs": []
    },
    {
      "cell_type": "code",
      "metadata": {
        "id": "pEiZ7etNWevw",
        "colab_type": "code",
        "colab": {}
      },
      "source": [
        "len(train_captions), len(train_img_name_vector)"
      ],
      "execution_count": 0,
      "outputs": []
    },
    {
      "cell_type": "code",
      "metadata": {
        "id": "mvRXj37Os5kC",
        "colab_type": "code",
        "colab": {}
      },
      "source": [
        "#create a dic of image path & captions\n",
        "# trainImgCaption = dict()\n",
        "# for i, j in zip(train_img_name_vector, train_captions):\n",
        "#   trainImgCaption[i] = j"
      ],
      "execution_count": 0,
      "outputs": []
    },
    {
      "cell_type": "code",
      "metadata": {
        "id": "SAv2pwMQ1lwG",
        "colab_type": "code",
        "colab": {}
      },
      "source": [
        "trainImgCaption = dict(zip(train_img_name_vector, train_captions))"
      ],
      "execution_count": 0,
      "outputs": []
    },
    {
      "cell_type": "markdown",
      "metadata": {
        "id": "UwSIYDn3KQYf",
        "colab_type": "text"
      },
      "source": [
        "## Save to Drive"
      ]
    },
    {
      "cell_type": "code",
      "metadata": {
        "id": "DJUSe17Ix4rH",
        "colab_type": "code",
        "colab": {}
      },
      "source": [
        "from pickle import dump, load\n",
        "\n",
        "# # Save the bottleneck train features to disk\n",
        "with open(DATASET_PATH + \"/Pickle/coco_trainImgCaption_10K.pkl\", \"wb\") as encoded_pickle:\n",
        "    dump(trainImgCaption, encoded_pickle)\n",
        "\n",
        "#load dic\n",
        "# trainImgCaption = load(open(DATASET_PATH + \"/Pickle/coco_trainImgCaption_10K.pkl\", \"rb\"))"
      ],
      "execution_count": 0,
      "outputs": []
    },
    {
      "cell_type": "code",
      "metadata": {
        "id": "pb4mcKjJ03wC",
        "colab_type": "code",
        "colab": {}
      },
      "source": [
        "ttt = load(open(DATASET_PATH + \"/Pickle/coco_trainImgCaption_10K.pkl\", \"rb\"))"
      ],
      "execution_count": 0,
      "outputs": []
    },
    {
      "cell_type": "code",
      "metadata": {
        "id": "5INUK9TG07UP",
        "colab_type": "code",
        "colab": {}
      },
      "source": [
        "len(ttt)"
      ],
      "execution_count": 0,
      "outputs": []
    },
    {
      "cell_type": "code",
      "metadata": {
        "id": "_62mXd6utoCc",
        "colab_type": "code",
        "colab": {}
      },
      "source": [
        "i = list(trainImgCaption.keys())\n",
        "\n",
        "# {'/content/train2014/COCO_train2014_000000324909.jpg': \n",
        "# '<start> A skateboarder performing a trick on a skateboard ramp. <end>',\n"
      ],
      "execution_count": 0,
      "outputs": []
    },
    {
      "cell_type": "code",
      "metadata": {
        "id": "fKGU5v15z9MU",
        "colab_type": "code",
        "colab": {}
      },
      "source": [
        "len(train_img_name_vector), len(i)"
      ],
      "execution_count": 0,
      "outputs": []
    },
    {
      "cell_type": "code",
      "metadata": {
        "id": "Kk0ZwwdMvx3y",
        "colab_type": "code",
        "colab": {}
      },
      "source": [
        "j = list(trainImgCaption.values())[:5]"
      ],
      "execution_count": 0,
      "outputs": []
    },
    {
      "cell_type": "code",
      "metadata": {
        "id": "SNNUfdgOuKea",
        "colab_type": "code",
        "colab": {}
      },
      "source": [
        "display_img('/content/train2014/COCO_train2014_000000324909.jpg')"
      ],
      "execution_count": 0,
      "outputs": []
    },
    {
      "cell_type": "code",
      "metadata": {
        "id": "ZSkqYJ3P2i9a",
        "colab_type": "code",
        "colab": {}
      },
      "source": [
        "trainImgCaption"
      ],
      "execution_count": 0,
      "outputs": []
    },
    {
      "cell_type": "code",
      "metadata": {
        "id": "7_m4pnN-0lhK",
        "colab_type": "code",
        "colab": {}
      },
      "source": [
        "import cv2\n",
        "count = 1\n",
        "\n",
        "img_path_on_drive = []\n",
        "caption_path_on_drive = []\n",
        "\n",
        "for key, caption in trainImgCaption.items():\n",
        "\n",
        "  #read image from cache\n",
        "  image = cv2.imread(key)\n",
        "\n",
        "  #return image_name = COCO_train2014_000000432395.jpg\n",
        "  image_name = key[len('/content/train2014/'):]\n",
        "\n",
        "  #write to Google Drive for offline under coco_2 folder\n",
        "  #COCO_dataset_2 = '/content/drive/My Drive/_AI/Image Captioning/coco_2/'\n",
        "  cv2.imwrite(COCO_dataset_2 + image_name, image)\n",
        "\n",
        "  img_path_on_drive.append(COCO_dataset_2 + image_name)\n",
        "  caption_path_on_drive.append(caption)\n",
        "  \n",
        "  # print(count)\n",
        "  # count = count + 1\n",
        "\n",
        "  # # if count > 1:\n",
        "  # #   break\n",
        "\n",
        "trainImgCaption_on_drive = dict(zip(img_path_on_drive, caption_path_on_drive))"
      ],
      "execution_count": 0,
      "outputs": []
    },
    {
      "cell_type": "code",
      "metadata": {
        "id": "coD6ACjb5_MM",
        "colab_type": "code",
        "colab": {}
      },
      "source": [
        "len(trainImgCaption_on_drive)"
      ],
      "execution_count": 0,
      "outputs": []
    },
    {
      "cell_type": "code",
      "metadata": {
        "id": "IhEFQndJ9F_B",
        "colab_type": "code",
        "colab": {}
      },
      "source": [
        "from pickle import dump, load\n",
        "\n",
        "# # Save the bottleneck train features to disk\n",
        "with open(DATASET_PATH + \"/Pickle/coco_trainImgCaption_on_drive_10K.pkl\", \"wb\") as encoded_pickle:\n",
        "    dump(trainImgCaption_on_drive, encoded_pickle)\n",
        "\n",
        "#load dic\n",
        "# trainImgCaption_on_drive = load(open(DATASET_PATH + \"/Pickle/coco_trainImgCaption_on_drive_10K.pkl\", \"rb\"))"
      ],
      "execution_count": 0,
      "outputs": []
    },
    {
      "cell_type": "code",
      "metadata": {
        "id": "CaHq5Kww9r6C",
        "colab_type": "code",
        "colab": {}
      },
      "source": [
        "#Testing saved files\n",
        "ttt = load(open(DATASET_PATH + \"/Pickle/coco_trainImgCaption_on_drive_10K.pkl\", \"rb\"))\n",
        "ttt"
      ],
      "execution_count": 0,
      "outputs": []
    },
    {
      "cell_type": "code",
      "metadata": {
        "id": "Fx8mrYSG6E-L",
        "colab_type": "code",
        "colab": {}
      },
      "source": [
        "count = 1\n",
        "for i, j in trainImgCaption_on_drive.items():\n",
        "  print(j)\n",
        "  display_img(i)  \n",
        "  count = count + 1\n",
        "\n",
        "  if count > 2:\n",
        "    break\n",
        "  "
      ],
      "execution_count": 0,
      "outputs": []
    },
    {
      "cell_type": "code",
      "metadata": {
        "id": "1gL40U_e6PWC",
        "colab_type": "code",
        "colab": {}
      },
      "source": [
        "display_img(i)"
      ],
      "execution_count": 0,
      "outputs": []
    },
    {
      "cell_type": "code",
      "metadata": {
        "id": "cuabwWuuYccE",
        "colab_type": "code",
        "colab": {}
      },
      "source": [
        "txt =  '/content/train2014/COCO_train2014_000000027074.jpg'"
      ],
      "execution_count": 0,
      "outputs": []
    },
    {
      "cell_type": "code",
      "metadata": {
        "id": "6rOqYsE907W2",
        "colab_type": "code",
        "colab": {}
      },
      "source": [
        "a = txt[len('/content/train2014/'):]\n",
        "COCO_dataset + a"
      ],
      "execution_count": 0,
      "outputs": []
    },
    {
      "cell_type": "code",
      "metadata": {
        "id": "T1BIKTVBOhvS",
        "colab_type": "code",
        "colab": {}
      },
      "source": [
        "import glob\n",
        "\n",
        "# Below path contains all the images\n",
        "# images = '../../storage/image_caption/dataset/Flicker8k_Dataset/'\n",
        "# images = dataset_img_path + '/'\n",
        "# Create a list of all image names in the directory\n",
        "coco_img = glob.glob(COCO_dataset + '*.jpg')\n",
        "len(coco_img)"
      ],
      "execution_count": 0,
      "outputs": []
    },
    {
      "cell_type": "code",
      "metadata": {
        "id": "c4o-ST2APJTU",
        "colab_type": "code",
        "colab": {}
      },
      "source": [
        "coco_img[1]"
      ],
      "execution_count": 0,
      "outputs": []
    },
    {
      "cell_type": "code",
      "metadata": {
        "id": "I9q065bYgf0e",
        "colab_type": "code",
        "colab": {}
      },
      "source": [
        "train_img_name_vector[1]"
      ],
      "execution_count": 0,
      "outputs": []
    },
    {
      "cell_type": "code",
      "metadata": {
        "id": "fa-Rs5WZY0Sw",
        "colab_type": "code",
        "colab": {}
      },
      "source": [
        "img_path = train_img_name_vector[1]\n",
        "\n",
        "# img_path = coco_img[10]\n",
        "\n",
        "import matplotlib.pyplot as plt\n",
        "def display_img(img_path):\n",
        "  im = plt.imread(img_path)\n",
        "  plt.imshow(im)\n",
        "\n",
        "display_img(img_path)"
      ],
      "execution_count": 0,
      "outputs": []
    },
    {
      "cell_type": "code",
      "metadata": {
        "id": "zMvmCmE9WkJ2",
        "colab_type": "code",
        "colab": {}
      },
      "source": [
        "img = '/content/drive/My Drive/_AI/Image Captioning/coco/COCO_train2014_000000427805.jpg'\n",
        "\n",
        "img_id = img[len('/content/drive/My Drive/_AI/Image Captioning/coco/COCO_train2014_'):len('/content/drive/My Drive/_AI/Image Captioning/coco/COCO_train2014_000000427805')]\n",
        "\n",
        "img_id_number = img_id.lstrip('0')"
      ],
      "execution_count": 0,
      "outputs": []
    },
    {
      "cell_type": "code",
      "metadata": {
        "id": "wE3747xHXJ8g",
        "colab_type": "code",
        "colab": {}
      },
      "source": [
        "start = len('/content/drive/My Drive/_AI/Image Captioning/coco/COCO_train2014_')\n",
        "end = len('/content/drive/My Drive/_AI/Image Captioning/coco/COCO_train2014_000000427805')\n",
        "def get_image_id(full_img_path):\n",
        "  img_id = full_img_path[start:end]\n",
        "  img_id_number = img_id.lstrip('0')\n",
        "  return img_id_number"
      ],
      "execution_count": 0,
      "outputs": []
    },
    {
      "cell_type": "code",
      "metadata": {
        "id": "IrJRY3d-XvGx",
        "colab_type": "code",
        "colab": {}
      },
      "source": [
        "get_image_id(img)"
      ],
      "execution_count": 0,
      "outputs": []
    },
    {
      "cell_type": "code",
      "metadata": {
        "id": "ofI_XHyLYJC4",
        "colab_type": "code",
        "colab": {}
      },
      "source": [
        "coco_img_id = []\n",
        "\n",
        "for i in coco_img:\n",
        "  coco_img_id.append(get_image_id(i))"
      ],
      "execution_count": 0,
      "outputs": []
    },
    {
      "cell_type": "code",
      "metadata": {
        "id": "XH5m8FPdYm_m",
        "colab_type": "code",
        "colab": {}
      },
      "source": [
        "coco_img_id"
      ],
      "execution_count": 0,
      "outputs": []
    },
    {
      "cell_type": "code",
      "metadata": {
        "id": "II8qhXbrahLc",
        "colab_type": "code",
        "colab": {}
      },
      "source": [
        "COCO_dataset + 'COCO_train2014_'"
      ],
      "execution_count": 0,
      "outputs": []
    },
    {
      "cell_type": "code",
      "metadata": {
        "id": "6An1DqVfWjPl",
        "colab_type": "code",
        "colab": {}
      },
      "source": [
        "# # Read the json file\n",
        "# with open(annotation_file, 'r') as f:\n",
        "#     annotations = json.load(f)\n",
        "\n",
        "# # Store captions and image names in vectors\n",
        "# train_captions = []\n",
        "# train_img_name_vector = []\n",
        "\n",
        "# # for annot in annotations['annotations']:    \n",
        "\n",
        "# for i in coco_img_id:\n",
        "#   if i in annotations['annotations']['image_id']\n",
        "\n",
        "#     if annot['image_id'] in coco_img_id:\n",
        "#       caption = '<start> ' + annot['caption'] + ' <end>'\n",
        "#       full_coco_image_path = COCO_dataset + 'COCO_train2014_' + '%012d.jpg' % (annot['image_id'])\n",
        "#       train_img_name_vector.append(full_coco_image_path)\n",
        "#       train_captions.append(caption)\n",
        "\n",
        "# # Shuffle captions and image_names together\n",
        "# # Set a random state\n",
        "# # train_captions, img_name_vector = shuffle(all_captions,\n",
        "# #                                           all_img_name_vector,\n",
        "# #                                           random_state=1)\n",
        "\n",
        "# # Select the first 30000 captions from the shuffled set\n",
        "# # num_examples = 10000\n",
        "# # train_captions = train_captions[:num_examples]\n",
        "# # train_img_name_vector = img_name_vector[:num_examples]"
      ],
      "execution_count": 0,
      "outputs": []
    },
    {
      "cell_type": "markdown",
      "metadata": {
        "id": "ykP-j6K9KZlr",
        "colab_type": "text"
      },
      "source": [
        "## Load from Google drive"
      ]
    },
    {
      "cell_type": "code",
      "metadata": {
        "id": "RYaV9MeSKuUB",
        "colab_type": "code",
        "colab": {}
      },
      "source": [
        "from pickle import dump, load\n",
        "\n",
        "#load dic\n",
        "trainImgCaption_on_drive = load(open(DATASET_PATH + \"/Pickle/coco_trainImgCaption_on_drive_10K.pkl\", \"rb\"))"
      ],
      "execution_count": 0,
      "outputs": []
    },
    {
      "cell_type": "code",
      "metadata": {
        "id": "ZaPNEbzKa_Bj",
        "colab_type": "code",
        "colab": {}
      },
      "source": [
        "train_img_name_vector = list(trainImgCaption_on_drive.keys())\n",
        "train_captions = list(trainImgCaption_on_drive.values())\n",
        "\n",
        "len(train_img_name_vector), len(train_captions)"
      ],
      "execution_count": 0,
      "outputs": []
    },
    {
      "cell_type": "code",
      "metadata": {
        "id": "JbZ7nMo9LliG",
        "colab_type": "code",
        "colab": {}
      },
      "source": [
        "#Test\n",
        "import matplotlib.pyplot as plt\n",
        "def display_img(img_path):\n",
        "  im = plt.imread(img_path)\n",
        "  plt.imshow(im)\n",
        "\n",
        "count = 1\n",
        "for i, j in zip(train_img_name_vector, train_captions):\n",
        "  print(j)\n",
        "  display_img(i)  \n",
        "  count = count + 1\n",
        "\n",
        "  if count > 1:\n",
        "    break"
      ],
      "execution_count": 0,
      "outputs": []
    },
    {
      "cell_type": "markdown",
      "metadata": {
        "colab_type": "text",
        "id": "8cSW4u-ORPFQ"
      },
      "source": [
        "## Preprocess the images using InceptionV3\n",
        "Next, you will use InceptionV3 (which is pretrained on Imagenet) to classify each image. You will extract features from the last convolutional layer.\n",
        "\n",
        "First, you will convert the images into InceptionV3's expected format by:\n",
        "* Resizing the image to 299px by 299px\n",
        "* [Preprocess the images](https://cloud.google.com/tpu/docs/inception-v3-advanced#preprocessing_stage) using the [preprocess_input](https://www.tensorflow.org/api_docs/python/tf/keras/applications/inception_v3/preprocess_input) method to normalize the image so that it contains pixels in the range of -1 to 1, which matches the format of the images used to train InceptionV3."
      ]
    },
    {
      "cell_type": "code",
      "metadata": {
        "colab_type": "code",
        "id": "zXR0217aRPFR",
        "colab": {}
      },
      "source": [
        "def load_image(image_path):\n",
        "    img = tf.io.read_file(image_path)\n",
        "    img = tf.image.decode_jpeg(img, channels=3)\n",
        "    img = tf.image.resize(img, (299, 299))\n",
        "    img = tf.keras.applications.inception_v3.preprocess_input(img)\n",
        "    return img, image_path"
      ],
      "execution_count": 0,
      "outputs": []
    },
    {
      "cell_type": "markdown",
      "metadata": {
        "colab_type": "text",
        "id": "MDvIu4sXRPFV"
      },
      "source": [
        "## Initialize InceptionV3 and load the pretrained Imagenet weights\n",
        "\n",
        "Now you'll create a tf.keras model where the output layer is the last convolutional layer in the InceptionV3 architecture. The shape of the output of this layer is ```8x8x2048```. You use the last convolutional layer because you are using attention in this example. You don't perform this initialization during training because it could become a bottleneck.\n",
        "\n",
        "* You forward each image through the network and store the resulting vector in a dictionary (image_name --> feature_vector).\n",
        "* After all the images are passed through the network, you pickle the dictionary and save it to disk.\n",
        "\n",
        "\n"
      ]
    },
    {
      "cell_type": "code",
      "metadata": {
        "colab_type": "code",
        "id": "RD3vW4SsRPFW",
        "colab": {}
      },
      "source": [
        "image_model = tf.keras.applications.InceptionV3(include_top=False,\n",
        "                                                weights='imagenet')\n",
        "new_input = image_model.input\n",
        "hidden_layer = image_model.layers[-1].output\n",
        "\n",
        "image_features_extract_model = tf.keras.Model(new_input, hidden_layer)"
      ],
      "execution_count": 0,
      "outputs": []
    },
    {
      "cell_type": "markdown",
      "metadata": {
        "colab_type": "text",
        "id": "rERqlR3WRPGO"
      },
      "source": [
        "## Caching the features extracted from InceptionV3\n",
        "\n",
        "You will pre-process each image with InceptionV3 and cache the output to disk. Caching the output in RAM would be faster but also memory intensive, requiring 8 \\* 8 \\* 2048 floats per image. At the time of writing, this exceeds the memory limitations of Colab (currently 12GB of memory).\n",
        "\n",
        "Performance could be improved with a more sophisticated caching strategy (for example, by sharding the images to reduce random access disk I/O), but that would require more code.\n",
        "\n",
        "The caching will take about 10 minutes to run in Colab with a GPU. If you'd like to see a progress bar, you can: \n",
        "\n",
        "1. install [tqdm](https://github.com/tqdm/tqdm):\n",
        "\n",
        "    `!pip install tqdm`\n",
        "\n",
        "2. Import tqdm:\n",
        "\n",
        "    `from tqdm import tqdm`\n",
        "\n",
        "3. Change the following line:\n",
        "\n",
        "    `for img, path in image_dataset:`\n",
        "\n",
        "    to:\n",
        "\n",
        "    `for img, path in tqdm(image_dataset):`\n"
      ]
    },
    {
      "cell_type": "code",
      "metadata": {
        "colab_type": "code",
        "id": "Dx_fvbVgRPGQ",
        "colab": {}
      },
      "source": [
        "# Get unique images\n",
        "# encode_train = sorted(set(img_name_vector))\n",
        "\n",
        "encode_train = sorted(set(train_img_name_vector))\n",
        "\n",
        "# Feel free to change batch_size according to your system configuration\n",
        "image_dataset = tf.data.Dataset.from_tensor_slices(encode_train)\n",
        "image_dataset = image_dataset.map(\n",
        "  load_image, num_parallel_calls=tf.data.experimental.AUTOTUNE).batch(16)\n",
        "\n",
        "for img, path in image_dataset:\n",
        "  batch_features = image_features_extract_model(img)\n",
        "  batch_features = tf.reshape(batch_features,\n",
        "                              (batch_features.shape[0], -1, batch_features.shape[3]))\n",
        "\n",
        "  for bf, p in zip(batch_features, path):\n",
        "    path_of_feature = p.numpy().decode(\"utf-8\")\n",
        "    np.save(path_of_feature, bf.numpy())"
      ],
      "execution_count": 0,
      "outputs": []
    },
    {
      "cell_type": "code",
      "metadata": {
        "id": "Vvpvz8xov-Qc",
        "colab_type": "code",
        "colab": {}
      },
      "source": [
        "image_dataset"
      ],
      "execution_count": 0,
      "outputs": []
    },
    {
      "cell_type": "code",
      "metadata": {
        "id": "NzcxHl3ih_eM",
        "colab_type": "code",
        "colab": {}
      },
      "source": [
        "path"
      ],
      "execution_count": 0,
      "outputs": []
    },
    {
      "cell_type": "code",
      "metadata": {
        "id": "z4aGeJ2OiTSS",
        "colab_type": "code",
        "colab": {}
      },
      "source": [
        "path_of_feature"
      ],
      "execution_count": 0,
      "outputs": []
    },
    {
      "cell_type": "code",
      "metadata": {
        "id": "JZVGq_7mipUC",
        "colab_type": "code",
        "colab": {}
      },
      "source": [
        "bf.numpy()"
      ],
      "execution_count": 0,
      "outputs": []
    },
    {
      "cell_type": "markdown",
      "metadata": {
        "colab_type": "text",
        "id": "nyqH3zFwRPFi"
      },
      "source": [
        "## Preprocess and tokenize the captions\n",
        "\n",
        "* First, you'll tokenize the captions (for example, by splitting on spaces). This gives us a  vocabulary of all of the unique words in the data (for example, \"surfing\", \"football\", and so on).\n",
        "* Next, you'll limit the vocabulary size to the top 5,000 words (to save memory). You'll replace all other words with the token \"UNK\" (unknown).\n",
        "* You then create word-to-index and index-to-word mappings.\n",
        "* Finally, you pad all sequences to be the same length as the longest one."
      ]
    },
    {
      "cell_type": "code",
      "metadata": {
        "colab_type": "code",
        "id": "HZfK8RhQRPFj",
        "colab": {}
      },
      "source": [
        "# Find the maximum length of any caption in our dataset\n",
        "def calc_max_length(tensor):\n",
        "    return max(len(t) for t in tensor)"
      ],
      "execution_count": 0,
      "outputs": []
    },
    {
      "cell_type": "code",
      "metadata": {
        "colab_type": "code",
        "id": "oJGE34aiRPFo",
        "colab": {}
      },
      "source": [
        "# Choose the top 5000 words from the vocabulary\n",
        "top_k = 5000\n",
        "# tokenizer = tf.keras.preprocessing.text.Tokenizer(num_words=top_k,\n",
        "#                                                   oov_token=\"<unk>\",\n",
        "#                                                   filters='!\"#$%&()*+.,-/:;=?@[\\]^_`{|}~ ')\n",
        "\n",
        "tokenizer = tf.keras.preprocessing.text.Tokenizer(num_words=top_k,\n",
        "                                                  filters='!\"#$%&()*+.,-/:;=?@[\\]^_`{|}~ ')\n",
        "\n",
        "tokenizer.fit_on_texts(train_captions)\n",
        "train_seqs = tokenizer.texts_to_sequences(train_captions)"
      ],
      "execution_count": 0,
      "outputs": []
    },
    {
      "cell_type": "code",
      "metadata": {
        "id": "7CfaziBUjRP-",
        "colab_type": "code",
        "colab": {}
      },
      "source": [
        "len(train_seqs)\n",
        "tokenizer.word_index['<pad>'] = 0\n",
        "tokenizer.index_word[0] = '<pad>'\n",
        "train_seqs = tokenizer.texts_to_sequences(train_captions)\n",
        "\n",
        "cap_vector = tf.keras.preprocessing.sequence.pad_sequences(train_seqs, padding='post')\n",
        "max_length = calc_max_length(train_seqs)\n",
        "max_length\n",
        "\n",
        "tokenizer.word_index['<pad>'] = 0\n",
        "tokenizer.index_word[0] = '<pad>'\n",
        "\n",
        "# Create the tokenized vectors\n",
        "train_seqs = tokenizer.texts_to_sequences(train_captions)\n",
        "\n",
        "# Calculates the max_length, which is used to store the attention weights\n",
        "max_length = calc_max_length(train_seqs)\n",
        "max_length"
      ],
      "execution_count": 0,
      "outputs": []
    },
    {
      "cell_type": "code",
      "metadata": {
        "colab_type": "code",
        "id": "8Q44tNQVRPFt",
        "colab": {}
      },
      "source": [
        "# tokenizer.word_index['<pad>'] = 0\n",
        "# tokenizer.index_word[0] = '<pad>'"
      ],
      "execution_count": 0,
      "outputs": []
    },
    {
      "cell_type": "code",
      "metadata": {
        "colab_type": "code",
        "id": "0fpJb5ojRPFv",
        "colab": {}
      },
      "source": [
        "# Create the tokenized vectors\n",
        "# train_seqs = tokenizer.texts_to_sequences(train_captions)"
      ],
      "execution_count": 0,
      "outputs": []
    },
    {
      "cell_type": "code",
      "metadata": {
        "id": "3sO9PP2_juxH",
        "colab_type": "code",
        "colab": {}
      },
      "source": [
        "train_seqs"
      ],
      "execution_count": 0,
      "outputs": []
    },
    {
      "cell_type": "code",
      "metadata": {
        "colab_type": "code",
        "id": "AidglIZVRPF4",
        "colab": {}
      },
      "source": [
        "# Pad each vector to the max_length of the captions\n",
        "# If you do not provide a max_length value, pad_sequences calculates it automatically\n",
        "# cap_vector = tf.keras.preprocessing.sequence.pad_sequences(train_seqs, padding='post')"
      ],
      "execution_count": 0,
      "outputs": []
    },
    {
      "cell_type": "code",
      "metadata": {
        "colab_type": "code",
        "id": "gL0wkttkRPGA",
        "colab": {}
      },
      "source": [
        "# # Calculates the max_length, which is used to store the attention weights\n",
        "# max_length = calc_max_length(train_seqs)\n",
        "# max_length"
      ],
      "execution_count": 0,
      "outputs": []
    },
    {
      "cell_type": "code",
      "metadata": {
        "id": "6inq-PhznrPG",
        "colab_type": "code",
        "colab": {}
      },
      "source": [
        "# dump(tokenizer, open('tokenizer.pkl', 'wb'))"
      ],
      "execution_count": 0,
      "outputs": []
    },
    {
      "cell_type": "markdown",
      "metadata": {
        "colab_type": "text",
        "id": "M3CD75nDpvTI"
      },
      "source": [
        "## Split the data into training and testing"
      ]
    },
    {
      "cell_type": "code",
      "metadata": {
        "colab_type": "code",
        "id": "iS7DDMszRPGF",
        "colab": {}
      },
      "source": [
        "# Create training and validation sets using an 90-10 split\n",
        "img_name_train, img_name_val, cap_train, cap_val = train_test_split(train_img_name_vector,\n",
        "                                                                    cap_vector,\n",
        "                                                                    test_size=0.1,\n",
        "                                                                    random_state=0)"
      ],
      "execution_count": 0,
      "outputs": []
    },
    {
      "cell_type": "code",
      "metadata": {
        "colab_type": "code",
        "id": "XmViPkRFRPGH",
        "colab": {}
      },
      "source": [
        "len(img_name_train), len(cap_train), len(img_name_val), len(cap_val)"
      ],
      "execution_count": 0,
      "outputs": []
    },
    {
      "cell_type": "markdown",
      "metadata": {
        "colab_type": "text",
        "id": "uEWM9xrYcg45"
      },
      "source": [
        "## Create a tf.data dataset for training\n",
        "\n"
      ]
    },
    {
      "cell_type": "markdown",
      "metadata": {
        "colab_type": "text",
        "id": "horagNvhhZiy"
      },
      "source": [
        " Our images and captions are ready! Next, let's create a tf.data dataset to use for training our model."
      ]
    },
    {
      "cell_type": "code",
      "metadata": {
        "colab_type": "code",
        "id": "Q3TnZ1ToRPGV",
        "colab": {}
      },
      "source": [
        "# Feel free to change these parameters according to your system's configuration\n",
        "\n",
        "BATCH_SIZE = 64\n",
        "BUFFER_SIZE = 1000\n",
        "embedding_dim = 256\n",
        "units = 512\n",
        "top_k = 5000\n",
        "vocab_size = top_k + 1\n",
        "num_steps = len(img_name_train) // BATCH_SIZE\n",
        "# Shape of the vector extracted from InceptionV3 is (64, 2048)\n",
        "# These two variables represent that vector shape\n",
        "features_shape = 2048\n",
        "attention_features_shape = 64"
      ],
      "execution_count": 0,
      "outputs": []
    },
    {
      "cell_type": "code",
      "metadata": {
        "colab_type": "code",
        "id": "SmZS2N0bXG3T",
        "colab": {}
      },
      "source": [
        "# Load the numpy files\n",
        "def map_func(img_name, cap):\n",
        "  img_tensor = np.load(img_name.decode('utf-8')+'.npy')\n",
        "  return img_tensor, cap"
      ],
      "execution_count": 0,
      "outputs": []
    },
    {
      "cell_type": "code",
      "metadata": {
        "colab_type": "code",
        "id": "FDF_Nm3tRPGZ",
        "colab": {}
      },
      "source": [
        "dataset = tf.data.Dataset.from_tensor_slices((img_name_train, cap_train))\n",
        "\n",
        "# Use map to load the numpy files in parallel\n",
        "dataset = dataset.map(lambda item1, item2: tf.numpy_function(\n",
        "          map_func, [item1, item2], [tf.float32, tf.int32]),\n",
        "          num_parallel_calls=tf.data.experimental.AUTOTUNE)\n",
        "\n",
        "# Shuffle and batch\n",
        "dataset = dataset.shuffle(BUFFER_SIZE).batch(BATCH_SIZE)\n",
        "dataset = dataset.prefetch(buffer_size=tf.data.experimental.AUTOTUNE)"
      ],
      "execution_count": 0,
      "outputs": []
    },
    {
      "cell_type": "markdown",
      "metadata": {
        "colab_type": "text",
        "id": "nrvoDphgRPGd"
      },
      "source": [
        "## Model\n",
        "\n",
        "Fun fact: the decoder below is identical to the one in the example for [Neural Machine Translation with Attention](../sequences/nmt_with_attention.ipynb).\n",
        "\n",
        "The model architecture is inspired by the [Show, Attend and Tell](https://arxiv.org/pdf/1502.03044.pdf) paper.\n",
        "\n",
        "* In this example, you extract the features from the lower convolutional layer of InceptionV3 giving us a vector of shape (8, 8, 2048).\n",
        "* You squash that to a shape of (64, 2048).\n",
        "* This vector is then passed through the CNN Encoder (which consists of a single Fully connected layer).\n",
        "* The RNN (here GRU) attends over the image to predict the next word."
      ]
    },
    {
      "cell_type": "code",
      "metadata": {
        "colab_type": "code",
        "id": "ja2LFTMSdeV3",
        "colab": {}
      },
      "source": [
        "class BahdanauAttention(tf.keras.Model):\n",
        "  def __init__(self, units):\n",
        "    super(BahdanauAttention, self).__init__()\n",
        "    self.W1 = tf.keras.layers.Dense(units)\n",
        "    self.W2 = tf.keras.layers.Dense(units)\n",
        "    self.V = tf.keras.layers.Dense(1)\n",
        "\n",
        "  def call(self, features, hidden):\n",
        "    # features(CNN_encoder output) shape == (batch_size, 64, embedding_dim)\n",
        "\n",
        "    # hidden shape == (batch_size, hidden_size)\n",
        "    # hidden_with_time_axis shape == (batch_size, 1, hidden_size)\n",
        "    hidden_with_time_axis = tf.expand_dims(hidden, 1)\n",
        "\n",
        "    # score shape == (batch_size, 64, hidden_size)\n",
        "    score = tf.nn.tanh(self.W1(features) + self.W2(hidden_with_time_axis))\n",
        "\n",
        "    # attention_weights shape == (batch_size, 64, 1)\n",
        "    # you get 1 at the last axis because you are applying score to self.V\n",
        "    attention_weights = tf.nn.softmax(self.V(score), axis=1)\n",
        "\n",
        "    # context_vector shape after sum == (batch_size, hidden_size)\n",
        "    context_vector = attention_weights * features\n",
        "    context_vector = tf.reduce_sum(context_vector, axis=1)\n",
        "\n",
        "    return context_vector, attention_weights"
      ],
      "execution_count": 0,
      "outputs": []
    },
    {
      "cell_type": "code",
      "metadata": {
        "colab_type": "code",
        "id": "AZ7R1RxHRPGf",
        "colab": {}
      },
      "source": [
        "class CNN_Encoder(tf.keras.Model):\n",
        "    # Since you have already extracted the features and dumped it using pickle\n",
        "    # This encoder passes those features through a Fully connected layer\n",
        "    def __init__(self, embedding_dim):\n",
        "        super(CNN_Encoder, self).__init__()\n",
        "        # shape after fc == (batch_size, 64, embedding_dim)\n",
        "        self.fc = tf.keras.layers.Dense(embedding_dim)\n",
        "\n",
        "    def call(self, x):\n",
        "        x = self.fc(x)\n",
        "        x = tf.nn.relu(x)\n",
        "        return x"
      ],
      "execution_count": 0,
      "outputs": []
    },
    {
      "cell_type": "code",
      "metadata": {
        "colab_type": "code",
        "id": "V9UbGQmERPGi",
        "colab": {}
      },
      "source": [
        "class RNN_Decoder(tf.keras.Model):\n",
        "  def __init__(self, embedding_dim, units, vocab_size):\n",
        "    super(RNN_Decoder, self).__init__()\n",
        "    self.units = units\n",
        "\n",
        "    self.embedding = tf.keras.layers.Embedding(vocab_size, embedding_dim)\n",
        "    self.gru = tf.keras.layers.GRU(self.units,\n",
        "                                   return_sequences=True,\n",
        "                                   return_state=True,\n",
        "                                   recurrent_initializer='glorot_uniform')\n",
        "    self.fc1 = tf.keras.layers.Dense(self.units)\n",
        "    self.fc2 = tf.keras.layers.Dense(vocab_size)\n",
        "\n",
        "    self.attention = BahdanauAttention(self.units)\n",
        "\n",
        "  def call(self, x, features, hidden):\n",
        "    # defining attention as a separate model\n",
        "    context_vector, attention_weights = self.attention(features, hidden)\n",
        "\n",
        "    # x shape after passing through embedding == (batch_size, 1, embedding_dim)\n",
        "    x = self.embedding(x)\n",
        "\n",
        "    # x shape after concatenation == (batch_size, 1, embedding_dim + hidden_size)\n",
        "    x = tf.concat([tf.expand_dims(context_vector, 1), x], axis=-1)\n",
        "\n",
        "    # passing the concatenated vector to the GRU\n",
        "    output, state = self.gru(x)\n",
        "\n",
        "    # shape == (batch_size, max_length, hidden_size)\n",
        "    x = self.fc1(output)\n",
        "\n",
        "    # x shape == (batch_size * max_length, hidden_size)\n",
        "    x = tf.reshape(x, (-1, x.shape[2]))\n",
        "\n",
        "    # output shape == (batch_size * max_length, vocab)\n",
        "    x = self.fc2(x)\n",
        "\n",
        "    return x, state, attention_weights\n",
        "\n",
        "  def reset_state(self, batch_size):\n",
        "    return tf.zeros((batch_size, self.units))"
      ],
      "execution_count": 0,
      "outputs": []
    },
    {
      "cell_type": "code",
      "metadata": {
        "colab_type": "code",
        "id": "Qs_Sr03wRPGk",
        "colab": {}
      },
      "source": [
        "embedding_dim = 256\n",
        "units = 512\n",
        "top_k = 5000\n",
        "vocab_size = top_k + 1\n",
        "\n",
        "encoder = CNN_Encoder(embedding_dim)\n",
        "decoder = RNN_Decoder(embedding_dim, units, vocab_size)"
      ],
      "execution_count": 0,
      "outputs": []
    },
    {
      "cell_type": "code",
      "metadata": {
        "colab_type": "code",
        "id": "-bYN7xA0RPGl",
        "colab": {}
      },
      "source": [
        "optimizer = tf.keras.optimizers.Adam()\n",
        "loss_object = tf.keras.losses.SparseCategoricalCrossentropy(\n",
        "    from_logits=True, reduction='none')\n",
        "\n",
        "def loss_function(real, pred):\n",
        "  mask = tf.math.logical_not(tf.math.equal(real, 0))\n",
        "  loss_ = loss_object(real, pred)\n",
        "\n",
        "  mask = tf.cast(mask, dtype=loss_.dtype)\n",
        "  loss_ *= mask\n",
        "\n",
        "  return tf.reduce_mean(loss_)"
      ],
      "execution_count": 0,
      "outputs": []
    },
    {
      "cell_type": "markdown",
      "metadata": {
        "colab_type": "text",
        "id": "6A3Ni64joyab"
      },
      "source": [
        "## Checkpoint"
      ]
    },
    {
      "cell_type": "code",
      "metadata": {
        "colab_type": "code",
        "id": "PpJAqPMWo0uE",
        "colab": {}
      },
      "source": [
        "checkpoint_path = \"./checkpoints/train\"\n",
        "ckpt = tf.train.Checkpoint(encoder=encoder,\n",
        "                           decoder=decoder,\n",
        "                           optimizer = optimizer)\n",
        "ckpt_manager = tf.train.CheckpointManager(ckpt, checkpoint_path, max_to_keep=5)"
      ],
      "execution_count": 0,
      "outputs": []
    },
    {
      "cell_type": "code",
      "metadata": {
        "colab_type": "code",
        "id": "fUkbqhc_uObw",
        "colab": {}
      },
      "source": [
        "start_epoch = 0\n",
        "if ckpt_manager.latest_checkpoint:\n",
        "  start_epoch = int(ckpt_manager.latest_checkpoint.split('-')[-1])"
      ],
      "execution_count": 0,
      "outputs": []
    },
    {
      "cell_type": "code",
      "metadata": {
        "id": "dpBjmEhPq8OM",
        "colab_type": "code",
        "colab": {}
      },
      "source": [
        "!ls \"./checkpoints/train\""
      ],
      "execution_count": 0,
      "outputs": []
    },
    {
      "cell_type": "markdown",
      "metadata": {
        "colab_type": "text",
        "id": "PHod7t72RPGn"
      },
      "source": [
        "## Training\n",
        "\n",
        "* You extract the features stored in the respective `.npy` files and then pass those features through the encoder.\n",
        "* The encoder output, hidden state(initialized to 0) and the decoder input (which is the start token) is passed to the decoder.\n",
        "* The decoder returns the predictions and the decoder hidden state.\n",
        "* The decoder hidden state is then passed back into the model and the predictions are used to calculate the loss.\n",
        "* Use teacher forcing to decide the next input to the decoder.\n",
        "* Teacher forcing is the technique where the target word is passed as the next input to the decoder.\n",
        "* The final step is to calculate the gradients and apply it to the optimizer and backpropagate.\n"
      ]
    },
    {
      "cell_type": "code",
      "metadata": {
        "colab_type": "code",
        "id": "Vt4WZ5mhJE-E",
        "colab": {}
      },
      "source": [
        "# adding this in a separate cell because if you run the training cell\n",
        "# many times, the loss_plot array will be reset\n",
        "loss_plot = []"
      ],
      "execution_count": 0,
      "outputs": []
    },
    {
      "cell_type": "code",
      "metadata": {
        "colab_type": "code",
        "id": "sqgyz2ANKlpU",
        "colab": {}
      },
      "source": [
        "@tf.function\n",
        "def train_step(img_tensor, target):\n",
        "  loss = 0\n",
        "\n",
        "  # initializing the hidden state for each batch\n",
        "  # because the captions are not related from image to image\n",
        "  hidden = decoder.reset_state(batch_size=target.shape[0])\n",
        "\n",
        "  dec_input = tf.expand_dims([tokenizer.word_index['<start>']] * target.shape[0], 1)\n",
        "\n",
        "  with tf.GradientTape() as tape:\n",
        "      features = encoder(img_tensor)\n",
        "\n",
        "      for i in range(1, target.shape[1]):\n",
        "          # passing the features through the decoder\n",
        "          predictions, hidden, _ = decoder(dec_input, features, hidden)\n",
        "\n",
        "          loss += loss_function(target[:, i], predictions)\n",
        "\n",
        "          # using teacher forcing\n",
        "          dec_input = tf.expand_dims(target[:, i], 1)\n",
        "\n",
        "  total_loss = (loss / int(target.shape[1]))\n",
        "\n",
        "  trainable_variables = encoder.trainable_variables + decoder.trainable_variables\n",
        "\n",
        "  gradients = tape.gradient(loss, trainable_variables)\n",
        "\n",
        "  optimizer.apply_gradients(zip(gradients, trainable_variables))\n",
        "\n",
        "  return loss, total_loss"
      ],
      "execution_count": 0,
      "outputs": []
    },
    {
      "cell_type": "code",
      "metadata": {
        "colab_type": "code",
        "id": "UlA4VIQpRPGo",
        "colab": {}
      },
      "source": [
        "EPOCHS = 10\n",
        "\n",
        "for epoch in range(start_epoch, EPOCHS):\n",
        "    start = time.time()\n",
        "    total_loss = 0\n",
        "\n",
        "    for (batch, (img_tensor, target)) in enumerate(dataset):\n",
        "        batch_loss, t_loss = train_step(img_tensor, target)\n",
        "        total_loss += t_loss\n",
        "\n",
        "        if batch % 100 == 0:\n",
        "            print ('Epoch {} Batch {} Loss {:.4f}'.format(\n",
        "              epoch + 1, batch, batch_loss.numpy() / int(target.shape[1])))\n",
        "    # storing the epoch end loss value to plot later\n",
        "    loss_plot.append(total_loss / num_steps)\n",
        "\n",
        "    if epoch % 5 == 0:\n",
        "      ckpt_manager.save()\n",
        "\n",
        "    print ('Epoch {} Loss {:.6f}'.format(epoch + 1,\n",
        "                                         total_loss/num_steps))\n",
        "    print ('Time taken for 1 epoch {} sec\\n'.format(time.time() - start))"
      ],
      "execution_count": 0,
      "outputs": []
    },
    {
      "cell_type": "code",
      "metadata": {
        "colab_type": "code",
        "id": "1Wm83G-ZBPcC",
        "colab": {}
      },
      "source": [
        "plt.plot(loss_plot)\n",
        "plt.xlabel('Epochs')\n",
        "plt.ylabel('Loss')\n",
        "plt.title('Loss Plot')\n",
        "plt.show()"
      ],
      "execution_count": 0,
      "outputs": []
    },
    {
      "cell_type": "markdown",
      "metadata": {
        "colab_type": "text",
        "id": "xGvOcLQKghXN"
      },
      "source": [
        "## Caption!\n",
        "\n",
        "* The evaluate function is similar to the training loop, except you don't use teacher forcing here. The input to the decoder at each time step is its previous predictions along with the hidden state and the encoder output.\n",
        "* Stop predicting when the model predicts the end token.\n",
        "* And store the attention weights for every time step."
      ]
    },
    {
      "cell_type": "code",
      "metadata": {
        "colab_type": "code",
        "id": "RCWpDtyNRPGs",
        "colab": {}
      },
      "source": [
        "def evaluate(image):\n",
        "    attention_plot = np.zeros((max_length, attention_features_shape))\n",
        "\n",
        "    hidden = decoder.reset_state(batch_size=1)\n",
        "\n",
        "    temp_input = tf.expand_dims(load_image(image)[0], 0)\n",
        "    img_tensor_val = image_features_extract_model(temp_input)\n",
        "    img_tensor_val = tf.reshape(img_tensor_val, (img_tensor_val.shape[0], -1, img_tensor_val.shape[3]))\n",
        "\n",
        "    features = encoder(img_tensor_val)\n",
        "\n",
        "    dec_input = tf.expand_dims([tokenizer.word_index['<start>']], 0)\n",
        "    result = []\n",
        "\n",
        "    for i in range(max_length):\n",
        "        predictions, hidden, attention_weights = decoder(dec_input, features, hidden)\n",
        "\n",
        "        attention_plot[i] = tf.reshape(attention_weights, (-1, )).numpy()\n",
        "\n",
        "        predicted_id = tf.random.categorical(predictions, 1)[0][0].numpy()\n",
        "        result.append(tokenizer.index_word[predicted_id])\n",
        "\n",
        "        if tokenizer.index_word[predicted_id] == '<end>':\n",
        "            return result, attention_plot\n",
        "\n",
        "        dec_input = tf.expand_dims([predicted_id], 0)\n",
        "\n",
        "    attention_plot = attention_plot[:len(result), :]\n",
        "    return result, attention_plot"
      ],
      "execution_count": 0,
      "outputs": []
    },
    {
      "cell_type": "code",
      "metadata": {
        "colab_type": "code",
        "id": "fD_y7PD6RPGt",
        "colab": {}
      },
      "source": [
        "def plot_attention(image, result, attention_plot):\n",
        "    temp_image = np.array(Image.open(image))\n",
        "\n",
        "    fig = plt.figure(figsize=(15, 10))\n",
        "\n",
        "    len_result = len(result)\n",
        "    for l in range(len_result):\n",
        "        temp_att = np.resize(attention_plot[l], (10, 10))\n",
        "        ax = fig.add_subplot(len_result//2, len_result//2, l+1)\n",
        "        ax.set_title(result[l])\n",
        "        img = ax.imshow(temp_image)\n",
        "        ax.imshow(temp_att, cmap='gray', alpha=0.6, extent=img.get_extent())\n",
        "\n",
        "    plt.tight_layout()\n",
        "    plt.show()"
      ],
      "execution_count": 0,
      "outputs": []
    },
    {
      "cell_type": "code",
      "metadata": {
        "id": "Kjf15LpUNBPU",
        "colab_type": "code",
        "colab": {}
      },
      "source": [
        ""
      ],
      "execution_count": 0,
      "outputs": []
    },
    {
      "cell_type": "code",
      "metadata": {
        "id": "VJpwWGONnd8N",
        "colab_type": "code",
        "colab": {}
      },
      "source": [
        "attention_plot"
      ],
      "execution_count": 0,
      "outputs": []
    },
    {
      "cell_type": "code",
      "metadata": {
        "colab_type": "code",
        "id": "7x8RiPHe_4qI",
        "colab": {}
      },
      "source": [
        "# captions on the validation set\n",
        "rid = np.random.randint(0, len(img_name_val))\n",
        "# rid = 157\n",
        "image = img_name_val[rid]\n",
        "real_caption = ' '.join([tokenizer.index_word[i] for i in cap_val[rid] if i not in [0]])\n",
        "result, attention_plot = evaluate(image)\n",
        "\n",
        "print ('Real Caption:', real_caption)\n",
        "print ('Prediction Caption: <start>', ' '.join(result))\n",
        "plot_attention(image, result, attention_plot)\n",
        "\n",
        "# opening the image\n",
        "print('#ID: ', rid)\n",
        "Image.open(image)"
      ],
      "execution_count": 0,
      "outputs": []
    },
    {
      "cell_type": "markdown",
      "metadata": {
        "colab_type": "text",
        "id": "Rprk3HEvZuxb"
      },
      "source": [
        "## Try it on your own images\n",
        "For fun, below we've provided a method you can use to caption your own images with the model we've just trained. Keep in mind, it was trained on a relatively small amount of data, and your images may be different from the training data (so be prepared for weird results!)\n"
      ]
    },
    {
      "cell_type": "code",
      "metadata": {
        "colab_type": "code",
        "id": "9Psd1quzaAWg",
        "colab": {}
      },
      "source": [
        "image_url = 'https://tensorflow.org/images/surf.jpg'\n",
        "# image_url =  'https://vtv1.mediacdn.vn/thumb_w/650/2019/10/18/bong-da-nu-01-2304-15714114665531563395741.jpg'\n",
        "image_extension = image_url[-4:]\n",
        "image_path = tf.keras.utils.get_file('image'+image_extension, origin=image_url)\n",
        "\n",
        "result, attention_plot = evaluate(image_path)\n",
        "print ('Prediction Caption:', ' '.join(result))\n",
        "plot_attention(image_path, result, attention_plot)\n",
        "# opening the image\n",
        "Image.open(image_path)"
      ],
      "execution_count": 0,
      "outputs": []
    },
    {
      "cell_type": "code",
      "metadata": {
        "id": "8vcDk9ZH2OgM",
        "colab_type": "code",
        "colab": {}
      },
      "source": [
        "image_extension"
      ],
      "execution_count": 0,
      "outputs": []
    },
    {
      "cell_type": "code",
      "metadata": {
        "id": "oOi0l5bO2dUd",
        "colab_type": "code",
        "colab": {}
      },
      "source": [
        "image_path"
      ],
      "execution_count": 0,
      "outputs": []
    },
    {
      "cell_type": "code",
      "metadata": {
        "id": "LShDVD853teX",
        "colab_type": "code",
        "colab": {}
      },
      "source": [
        "image"
      ],
      "execution_count": 0,
      "outputs": []
    },
    {
      "cell_type": "code",
      "metadata": {
        "id": "nCAF-zoh39RO",
        "colab_type": "code",
        "colab": {}
      },
      "source": [
        "# image_url =  'https://vtv1.mediacdn.vn/thumb_w/650/2019/10/18/bong-da-nu-01-2304-15714114665531563395741.jpg'\n",
        "# image_url = 'https://cdn.thethao247.vn/upload/vanhung/2019/12/10/truc-tiep-u22-viet-nam-vs-u22-indonesia-chung-ket-sea-games-30-20191575984470.jpg'\n",
        "image_url = 'https://vnn.onecmscdn.com/2019/12/06/photo-1-15761567061301811764033.jpg'\n",
        "# image_url = 'https://image.thanhnien.vn/660/uploaded/quocviet/2020_01_02/ds/tuyen-u23vietnam-tap-buoi-dau-tai-bangkok-huu_5201_vhxc.jpg'\n",
        "# image_extension = image_url[-4:]\n",
        "# image_path = tf.keras.utils.get_file('image'+image_extension, origin=image_url)\n",
        "\n",
        "image_path = tf.keras.utils.get_file('image3.jpg', origin=image_url)\n",
        "\n",
        "result, attention_plot = evaluate(image_path)\n",
        "print ('Prediction Caption:', ' '.join(result))\n",
        "plot_attention(image_path, result, attention_plot)\n",
        "# opening the image\n",
        "Image.open(image_path)"
      ],
      "execution_count": 0,
      "outputs": []
    },
    {
      "cell_type": "markdown",
      "metadata": {
        "colab_type": "text",
        "id": "VJZXyJco6uLO"
      },
      "source": [
        "# Next steps\n",
        "\n",
        "Congrats! You've just trained an image captioning model with attention. Next, take a look at this example [Neural Machine Translation with Attention](../sequences/nmt_with_attention.ipynb). It uses a similar architecture to translate between Spanish and English sentences. You can also experiment with training the code in this notebook on a different dataset."
      ]
    },
    {
      "cell_type": "code",
      "metadata": {
        "id": "Hk0yO_U7RDCV",
        "colab_type": "code",
        "colab": {}
      },
      "source": [
        "len(decoder.weights)"
      ],
      "execution_count": 0,
      "outputs": []
    },
    {
      "cell_type": "code",
      "metadata": {
        "id": "HtcVHR_3Bj_R",
        "colab_type": "code",
        "colab": {}
      },
      "source": [
        "from pickle import dump, load\n",
        "\n",
        "# # Save the bottleneck train features to disk\n",
        "with open(DATASET_PATH + \"/Pickle/COCO_decoder_100.pkl\", \"wb\") as encoded_pickle:\n",
        "    dump(decoder, encoded_pickle)\n",
        "\n",
        "# with open(DATASET_PATH + \"/Pickle/COCO_encoder_100.pkl\", \"wb\") as encoded_pickle:\n",
        "#     dump(encoder, encoded_pickle)"
      ],
      "execution_count": 0,
      "outputs": []
    },
    {
      "cell_type": "code",
      "metadata": {
        "id": "sK2jbmy2nxmb",
        "colab_type": "code",
        "colab": {}
      },
      "source": [
        "with open(DATASET_PATH + \"/Pickle/COCO_tokenizer_100.pkl\", \"wb\") as encoded_pickle:\n",
        "    dump(tokenizer, encoded_pickle)"
      ],
      "execution_count": 0,
      "outputs": []
    },
    {
      "cell_type": "markdown",
      "metadata": {
        "id": "8z5KPmfZCXw2",
        "colab_type": "text"
      },
      "source": [
        "# Connect and load data from Google Drive"
      ]
    },
    {
      "cell_type": "code",
      "metadata": {
        "id": "krK97vhtCZ7-",
        "colab_type": "code",
        "colab": {}
      },
      "source": [
        "from google.colab import drive\n",
        "drive.mount('/content/drive')"
      ],
      "execution_count": 0,
      "outputs": []
    },
    {
      "cell_type": "code",
      "metadata": {
        "id": "6plMhl3_CdIu",
        "colab_type": "code",
        "colab": {}
      },
      "source": [
        "ROOT_DIR = '/content/drive/My Drive/_AI/Image Captioning'\n",
        "\n",
        "models_path = ROOT_DIR + '/models'\n"
      ],
      "execution_count": 0,
      "outputs": []
    },
    {
      "cell_type": "code",
      "metadata": {
        "id": "NFIxykCrDVnO",
        "colab_type": "code",
        "colab": {}
      },
      "source": [
        "models_path"
      ],
      "execution_count": 0,
      "outputs": []
    },
    {
      "cell_type": "code",
      "metadata": {
        "id": "Kh4B89cjDSu9",
        "colab_type": "code",
        "colab": {}
      },
      "source": [
        "# save entire model\n",
        "# decoder.save(models_path + '/image_captioning_attention_entire_model_decoder_v1.tf')"
      ],
      "execution_count": 0,
      "outputs": []
    },
    {
      "cell_type": "code",
      "metadata": {
        "id": "jrgEv9WKD-YT",
        "colab_type": "code",
        "colab": {}
      },
      "source": [
        "decoder.save_weights(models_path + '/image_captioning_attention_decoder_v1.h5')"
      ],
      "execution_count": 0,
      "outputs": []
    },
    {
      "cell_type": "code",
      "metadata": {
        "id": "pZ9HiGDoFOsU",
        "colab_type": "code",
        "colab": {}
      },
      "source": [
        "encoder.save_weights(models_path + '/image_captioning_attention_encoder_v1.h5')"
      ],
      "execution_count": 0,
      "outputs": []
    },
    {
      "cell_type": "code",
      "metadata": {
        "id": "x8l18jfeFhHn",
        "colab_type": "code",
        "colab": {}
      },
      "source": [
        "decoder.load_weights(models_path + '/image_captioning_attention_decoder_v1.h5')"
      ],
      "execution_count": 0,
      "outputs": []
    },
    {
      "cell_type": "code",
      "metadata": {
        "id": "lMNB98bWH0u0",
        "colab_type": "code",
        "colab": {}
      },
      "source": [
        "decoder.summary()"
      ],
      "execution_count": 0,
      "outputs": []
    },
    {
      "cell_type": "code",
      "metadata": {
        "id": "6bFKHDz7HpCs",
        "colab_type": "code",
        "colab": {}
      },
      "source": [
        "encoder.load_weights(models_path + '/image_captioning_attention_encoder_v1.h5')"
      ],
      "execution_count": 0,
      "outputs": []
    },
    {
      "cell_type": "code",
      "metadata": {
        "id": "_BE46kwkIEqT",
        "colab_type": "code",
        "colab": {}
      },
      "source": [
        ""
      ],
      "execution_count": 0,
      "outputs": []
    },
    {
      "cell_type": "markdown",
      "metadata": {
        "id": "CyyFB3ASkbnc",
        "colab_type": "text"
      },
      "source": [
        "#Public to Web"
      ]
    },
    {
      "cell_type": "markdown",
      "metadata": {
        "id": "JvlbwpM3k_6U",
        "colab_type": "text"
      },
      "source": [
        "## Define web templates"
      ]
    },
    {
      "cell_type": "code",
      "metadata": {
        "id": "-pR3_8VxkdQb",
        "colab_type": "code",
        "colab": {}
      },
      "source": [
        "#ROOT_DIR = '/content/drive/My Drive/_AI/Image Captioning'\n",
        "web_dir = ROOT_DIR + '/web_coco/'\n",
        "templates_dir = web_dir + 'templates/'\n",
        "static_dir = web_dir + 'static/'"
      ],
      "execution_count": 0,
      "outputs": []
    },
    {
      "cell_type": "code",
      "metadata": {
        "id": "4kbk57AnlCRw",
        "colab_type": "code",
        "colab": {}
      },
      "source": [
        "with open(templates_dir + 'predict_form.html', 'wt') as f:\n",
        "    f.write('''\n",
        "    <style>\n",
        "    table, td, th {  \n",
        "        border: 1px solid #ddd;\n",
        "        text-align: left;\n",
        "    }\n",
        "\n",
        "    table {\n",
        "        border-collapse: collapse;\n",
        "        width: 100%;\n",
        "    }\n",
        "\n",
        "    th, td {\n",
        "        padding: 15px;\n",
        "    }\n",
        "    </style>\n",
        "</head>\n",
        "<body>\n",
        "\n",
        "<h1>Image Captioning Demo 2 - Show, Attend and Tell Approach </h1>\n",
        "\n",
        "<table>\n",
        "  <tr>\n",
        "    <th width=\"40%\">Load local image </th>\n",
        "    <th>Load image from URL</th>\n",
        "  </tr>\n",
        "  <tr>\n",
        "    <td>\n",
        "    <form action = \"/predict_upload\" method = \"POST\" enctype = \"multipart/form-data\">\n",
        "        <input type = \"file\" name = \"file\" />\n",
        "        <input type = \"submit\"/>\n",
        "    </form>\n",
        "    </td>\n",
        "    <td>\n",
        "        <form action = \"/predict_url\" method = \"POST\">\n",
        "            <input name=\"imageurl\" style=\"width: 600px\">\n",
        "            <input type = \"submit\"/>\n",
        "        </form>\n",
        "    </td>\n",
        "  </tr>\n",
        "</table>\n",
        "    \n",
        "        ''')"
      ],
      "execution_count": 0,
      "outputs": []
    },
    {
      "cell_type": "code",
      "metadata": {
        "id": "eUVkWZyclLkl",
        "colab_type": "code",
        "colab": {}
      },
      "source": [
        "with open(templates_dir + 'predict_result.html', 'wt') as f:\n",
        "    f.write('''\n",
        "<html>\n",
        "    <body>\n",
        "      <div>\n",
        "        <h2>Input Image</h2>\n",
        "        <img src=\"{{ url_for('static', filename = 'predict.jpg') }}\" width=\"600\"/>\n",
        "      </div>\n",
        "      <div>\n",
        "        <h2>Prediction Caption: {{txt_caption}}</h2>\n",
        "        <img src=\"{{ url_for('static', filename = 'attention_plot.jpg') }}\" width=\"100%\"/>\n",
        "      </div>\n",
        "    </body>\n",
        "</html>\n",
        "''')"
      ],
      "execution_count": 0,
      "outputs": []
    },
    {
      "cell_type": "markdown",
      "metadata": {
        "id": "6X6cCQqllQCz",
        "colab_type": "text"
      },
      "source": [
        "##App NGROK"
      ]
    },
    {
      "cell_type": "code",
      "metadata": {
        "id": "UMOkYTZTlM4s",
        "colab_type": "code",
        "colab": {}
      },
      "source": [
        "!pip install flask-ngrok"
      ],
      "execution_count": 0,
      "outputs": []
    },
    {
      "cell_type": "code",
      "metadata": {
        "id": "utgaPrh1Qfe1",
        "colab_type": "code",
        "colab": {}
      },
      "source": [
        "def plot_attention_4web(image, result, attention_plot):\n",
        "    temp_image = np.array(Image.open(image))\n",
        "\n",
        "    fig = plt.figure(figsize=(15, 10))\n",
        "\n",
        "    len_result = len(result)\n",
        "    for l in range(len_result):\n",
        "        temp_att = np.resize(attention_plot[l], (10, 10))\n",
        "        ax = fig.add_subplot(len_result//2, len_result//2, l+1)\n",
        "        ax.set_title(result[l])\n",
        "        img = ax.imshow(temp_image)\n",
        "        ax.imshow(temp_att, cmap='gray', alpha=0.6, extent=img.get_extent())\n",
        "\n",
        "    plt.tight_layout()\n",
        "    plt.show()\n",
        "\n",
        "    plt.savefig(static_dir + 'attention_plot.jpg')\n",
        "    fig.savefig(static_dir + 'attention_plot.jpg')"
      ],
      "execution_count": 0,
      "outputs": []
    },
    {
      "cell_type": "code",
      "metadata": {
        "id": "Rb38R5YJlXOb",
        "colab_type": "code",
        "colab": {}
      },
      "source": [
        "import urllib\n",
        "import cv2\n",
        "from flask_ngrok import run_with_ngrok\n",
        "from flask import Flask, render_template, request\n",
        "import base64\n",
        "import re\n",
        "import sys\n",
        "import os\n",
        "\n",
        "app = Flask(__name__, static_url_path='', template_folder=templates_dir, static_folder=static_dir)\n",
        "run_with_ngrok(app)\n",
        "\n",
        "# decoding an image from base64 into raw representation\n",
        "def convertImage(imgData1):\n",
        "    imgstr = re.search(r'base64,(.*)', str(imgData1)).group(1)\n",
        "    with open('output.png', 'wb') as output:\n",
        "        output.write(base64.b64decode(imgstr))\n",
        "\n",
        "def predict(np_img):\n",
        "    imgData = request.get_data()\n",
        "    # os.remove(static_dir + 'predict.jpg')\n",
        "\n",
        "    image_path = static_dir + 'predict.jpg'\n",
        "\n",
        "    cv2.imwrite(image_path, np_img)\n",
        "    x = cv2.imread(image_path)\n",
        "\n",
        "    result, attention_plot = evaluate(image_path)\n",
        "\n",
        "    pre_caption = ' '.join(result)\n",
        "\n",
        "    print ('Prediction Caption:', pre_caption)\n",
        "\n",
        "    plot_attention_4web(image_path, result, attention_plot)\n",
        "    # opening the image\n",
        "    # Image.open(image_path)\n",
        "\n",
        "    # pre_caption = predict_caption(static_dir + 'predict.jpg')    \n",
        "     \n",
        "    return render_template('predict_result.html', txt_caption = pre_caption)\n",
        "\n",
        "#START WEB APP\n",
        "@app.route('/predict', methods=['GET', 'POST'])\n",
        "def predict_form():\n",
        "    return render_template('predict_form.html') \n",
        "     \n",
        "    \n",
        "@app.route('/predict_upload', methods=['GET', 'POST'])\n",
        "def upload_file():\n",
        "    if request.method == 'POST':\n",
        "        f = request.files['file']\n",
        "        img = f.read()\n",
        "        np_arr = np.fromstring(img, np.uint8)\n",
        "        np_img = cv2.imdecode(np_arr, cv2.IMREAD_UNCHANGED)  \n",
        "        return predict(np_img)\n",
        "        \n",
        "\n",
        "@app.route('/predict_url', methods=['GET', 'POST'])\n",
        "def predicturl():    \n",
        "    if request.method == 'POST':\n",
        "        imageurl = request.form[\"imageurl\"]\n",
        "    elif request.method == 'GET':\n",
        "        imageurl = request.args.get(\"imageurl\")\n",
        "    \n",
        "    url = urllib.request.urlopen(imageurl)\n",
        "    np_arr = np.asarray(bytearray(url.read()), dtype=np.uint8)\n",
        "    np_img = cv2.imdecode(np_arr, -1)  # 'Load it as it is'\n",
        "    return predict(np_img)\n",
        "\n",
        "  #starts ngrok when the app is run\n",
        "@app.route(\"/\")\n",
        "def home():\n",
        "  return \"<h1>Welcome to Deep Learning Demo!</h1>\"\n",
        "  # return render_template('index.html')\n",
        "\n",
        "app.run()\n",
        "\n",
        "#if __name__ == '__main__':\n",
        "#    app.run(host='0.0.0.0', port='9102')     "
      ],
      "execution_count": 0,
      "outputs": []
    }
  ]
}